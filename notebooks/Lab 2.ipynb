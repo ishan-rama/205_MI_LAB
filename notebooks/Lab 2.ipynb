{
 "cells": [
  {
   "cell_type": "markdown",
   "id": "2672394e",
   "metadata": {},
   "source": [
    "# <div style=\"text-align: center\">$\\quad$ 205 Lab 2 - Data Exploration</div>\n"
   ]
  },
  {
   "cell_type": "markdown",
   "id": "dee3a743",
   "metadata": {},
   "source": [
    "***This is notebook is a record of the data exploration performed for the Ames Housing Dataset. This notebook will aim to follow the first few parts of the Data Science Project Checklist, while solving a  machine learning problem.***\n",
    "\n"
   ]
  },
  {
   "cell_type": "markdown",
   "id": "e8bf9f5a",
   "metadata": {},
   "source": [
    "## 1 Frame the problem - The Big Picture"
   ]
  },
  {
   "cell_type": "markdown",
   "id": "131a2a74",
   "metadata": {},
   "source": [
    "**1. Business Objective**\n",
    "   - The model will be required to predict the final sales price for each house in the hidden test set using Ames, Iowa census data. \n",
    "   -This data has 79 explonatory variables describing almost every aspect of residential homes in Ames, Iowa.\n",
    "   \n",
    "   \n",
    "**2. Model Use?** \n",
    "-  Test the performance of the model against a hidden test set and WIN THE KAGGLE COMPETITION!!!!!!! :)\n",
    " \n",
    "**3. Current Solutions?**\n",
    "  - Important factors determined by expert real estate agents and experts that impact final sale price\n",
    "      - quantity of bathrooms\n",
    "      - location\n",
    "      - home's age\n",
    "      - property size\n",
    "      - current condition of house\n",
    "      - local real estate trends\n",
    "      - the housing market\n",
    "  - Models surrounding house sale price predictions generally tend to use an RMSE performance measure, with a standard LinearRegression with features identified in Lasso regression.\n",
    "\n",
    "**4. Framing the problem?**\n",
    " - We will perform Supervised Learning as we are given final sale prices stored in the SalePrice column.\n",
    " - This is a regression task as we are trying to predict the exact final sale price which is a continous value.\n",
    " - Batch learning as the whole census data is available to us and collected in the past (before 2010).\n",
    "\n",
    "**5. Performance Measure?**\n",
    "- Based on past models we will use a RMSE performance measure so that our error is in the same units as the predicted value.\n",
    "\n",
    "**6. Performance Measure allighned with Businees Objective?**\n",
    " - RMSE allignes well with the business objective which is to predict the final sales prices as best as possible. The perfomance of these predictions will be measured by the RMSE error which will also be in the same units  - USD.\n",
    "\n",
    "**7. Minimum performance requirement?**\n",
    " - A reasonable target RMSE could be around $50,000, would need check with client?\n",
    " - As close as possible!!!\n",
    " \n",
    "**8. Comparable problems?**\n",
    " - Similar Housing price predictive models have been developed based on other data sets such as the Boston Housing Data set which could be reviewed later on when developing the models (Step 4). \n",
    " - Models obtained from scikit-learn library in Python\n",
    "\n",
    "**9. Human Expertise?**\n",
    "  - Ask Andreas\n",
    "\n",
    "**10. Solve the problem manually?**\n",
    " \n",
    "**11 + 12. Assumptions and Verification**\n",
    " - ASSUMPTIONS?"
   ]
  },
  {
   "cell_type": "markdown",
   "id": "d857f519",
   "metadata": {},
   "source": [
    "## 2 Get the Data"
   ]
  },
  {
   "cell_type": "markdown",
   "id": "e4a9cdc8",
   "metadata": {},
   "source": [
    "**1. Data Needed/Provided?**\n",
    "- Main Data set that contains the target value SalePrice and all other possible features that are relevant to houses and could help relate to the SalePrice variable.\n",
    "- Desription Text File that gives a full description of each column.\n",
    "- Training and Test subsets of the Main Data.\n",
    "\n",
    "**2. Find and Document where you can get the data**"
   ]
  },
  {
   "cell_type": "markdown",
   "id": "31be13d4",
   "metadata": {},
   "source": [
    "api_query_command = \"kaggle competitions download -c engsci-205-machine-intelligence-assignment-2022\"\n",
    "#Easier to sign up for an account, go to -  https://www.kaggle.com/competitions/engsci-205-machine-intelligence-assignment-2022, and under data tab download all files. :)"
   ]
  },
  {
   "cell_type": "code",
   "execution_count": null,
   "id": "674cbc25",
   "metadata": {},
   "outputs": [],
   "source": [
    "import numpy as np\n",
    "import pandas as pd\n",
    "import matplotlib.pyplot as plt\n",
    "import seaborn as sns\n",
    "sns.set()\n",
    "\n",
    "from dslab import distribution\n",
    "%matplotlib inline\n",
    "%load_ext autoreload\n",
    "%autoreload 2"
   ]
  },
  {
   "cell_type": "code",
   "execution_count": null,
   "id": "0ee102cf",
   "metadata": {},
   "outputs": [],
   "source": [
    "The Ames Housing Data consists of 79 exploratory varaibles descirbing almost every aspect of residential homes in Ames, Iowa."
   ]
  }
 ],
 "metadata": {
  "kernelspec": {
   "display_name": "Python 3 (ipykernel)",
   "language": "python",
   "name": "python3"
  },
  "language_info": {
   "codemirror_mode": {
    "name": "ipython",
    "version": 3
   },
   "file_extension": ".py",
   "mimetype": "text/x-python",
   "name": "python",
   "nbconvert_exporter": "python",
   "pygments_lexer": "ipython3",
   "version": "3.9.7"
  }
 },
 "nbformat": 4,
 "nbformat_minor": 5
}
